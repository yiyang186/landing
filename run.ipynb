{
 "cells": [
  {
   "cell_type": "code",
   "execution_count": 1,
   "metadata": {},
   "outputs": [],
   "source": [
    "# As usual, a bit of setup\n",
    "import time, os, re, json\n",
    "import numpy as np\n",
    "import pandas as pd\n",
    "import matplotlib.pyplot as plt\n",
    "\n",
    "from rnn_layers import *\n",
    "from solver import Solver\n",
    "from rnn import RNN\n",
    "from data import *\n",
    "from configure import *\n",
    "from utils import *\n",
    "\n",
    "%matplotlib inline\n",
    "plt.rcParams['figure.figsize'] = (10.0, 8.0) # set default size of plots\n",
    "plt.rcParams['image.interpolation'] = 'nearest'\n",
    "plt.rcParams['image.cmap'] = 'gray'\n",
    "\n",
    "# for auto-reloading external modules\n",
    "# see http://stackoverflow.com/questions/1907993/autoreload-of-modules-in-ipython\n",
    "%load_ext autoreload\n",
    "%autoreload 2"
   ]
  },
  {
   "cell_type": "code",
   "execution_count": 141,
   "metadata": {},
   "outputs": [
    {
     "ename": "FileNotFoundError",
     "evalue": "[Errno 2] No such file or directory: '~/Documents/Data/A320_300_20/'",
     "output_type": "error",
     "traceback": [
      "\u001b[0;31m---------------------------------------------------------------------------\u001b[0m",
      "\u001b[0;31mFileNotFoundError\u001b[0m                         Traceback (most recent call last)",
      "\u001b[0;32m<ipython-input-141-6eb6a007da2c>\u001b[0m in \u001b[0;36m<module>\u001b[0;34m()\u001b[0m\n\u001b[0;32m----> 1\u001b[0;31m \u001b[0mos\u001b[0m\u001b[0;34m.\u001b[0m\u001b[0mlistdir\u001b[0m\u001b[0;34m(\u001b[0m\u001b[0mPATH\u001b[0m\u001b[0;34m)\u001b[0m\u001b[0;34m\u001b[0m\u001b[0m\n\u001b[0m",
      "\u001b[0;31mFileNotFoundError\u001b[0m: [Errno 2] No such file or directory: '~/Documents/Data/A320_300_20/'"
     ]
    }
   ],
   "source": [
    "os.listdir(PATH)"
   ]
  },
  {
   "cell_type": "code",
   "execution_count": 110,
   "metadata": {},
   "outputs": [],
   "source": [
    "usecols = COLUMNS\n",
    "start, end = (260, 300)\n",
    "flight_df = pd.read_csv(PATH + '2016-03-02-17-18-10_A320__ZJSY_6372_160302142102817.csv',\n",
    "                        names=COLUMNS,\n",
    "                        usecols=usecols,\n",
    "                        skiprows=start,nrows=end - start\n",
    "                       ).fillna(method='pad'\n",
    "                       ).fillna(method='bfill')\n",
    "arr_env = decompose_wind(flight_df)\n",
    "arr_drv = compose_sstick(flight_df, sstick=False)\n",
    "\n",
    "others      = [ACC_LNG, ACC_LAT, ACC_VRT, PITH, ROLL, *SINGLE_COL]\n",
    "data_others = [abs_max(flight_df[COLUMNS[i]].values) for i in others]\n",
    "arr_others  = np.r_[data_others].T\n",
    "\n",
    "Xtrain = np.c_[arr_env, arr_drv, arr_others]"
   ]
  },
  {
   "cell_type": "code",
   "execution_count": 19,
   "metadata": {},
   "outputs": [
    {
     "name": "stdout",
     "output_type": "stream",
     "text": [
      "CPU times: user 1min 48s, sys: 9.33 s, total: 1min 58s\n",
      "Wall time: 2min 14s\n"
     ]
    }
   ],
   "source": [
    "%%time\n",
    "splited = split_data()"
   ]
  },
  {
   "cell_type": "code",
   "execution_count": 25,
   "metadata": {},
   "outputs": [
    {
     "data": {
      "text/plain": [
       "array(['2016-08-14-11-08-31_A319_B-1827_ZUCK_CQN2390_160814085450827.csv',\n",
       "       '2016-09-16-10-40-03_A319_B-1652_ZSQD_CSN6358_160916075130652.csv',\n",
       "       '2016-05-25-04-50-31_A319_B-1601_ZHCC_CSZ9329_160525023049601.csv',\n",
       "       ...,\n",
       "       '2016-10-21-01-00-02_A319_B-1802_ZLXY_CSN3173_161020225843802.csv',\n",
       "       '2016-09-22-12-56-36_A319_B-1652_ZYCC_CSN6610_160922085342652.csv',\n",
       "       '2016-11-07-07-53-10_A319_B-1651_ZBTJ_CSN6580_161107054203651.csv'],\n",
       "      dtype='<U66')"
      ]
     },
     "execution_count": 25,
     "metadata": {},
     "output_type": "execute_result"
    }
   ],
   "source": [
    "splited['f_train']"
   ]
  },
  {
   "cell_type": "code",
   "execution_count": 57,
   "metadata": {},
   "outputs": [
    {
     "name": "stdout",
     "output_type": "stream",
     "text": [
      "['_SSTICK_CAPT', '_SSTICK_CAPT-1', '_SSTICK_CAPT-2', '_SSTICK_CAPT-3']\n",
      "['_PITCH_CAPT_SSTICK', '_PITCH_CAPT_SSTICK-1', '_PITCH_CAPT_SSTICK-2', '_PITCH_CAPT_SSTICK-3']\n",
      "['_ROLL_CAPT_SSTICK', '_ROLL_CAPT_SSTICK-1', '_ROLL_CAPT_SSTICK-2', '_ROLL_CAPT_SSTICK-3']\n",
      "['_SSTICK_FO', '_SSTICK_FO-1', '_SSTICK_FO-2', '_SSTICK_FO-3']\n",
      "['_PITCH_FO_SSTICK', '_PITCH_FO_SSTICK-1', '_PITCH_FO_SSTICK-2', '_PITCH_FO_SSTICK-3']\n",
      "['_ROLL_FO_SSTICK', '_ROLL_FO_SSTICK-1', '_ROLL_FO_SSTICK-2', '_ROLL_FO_SSTICK-3']\n"
     ]
    }
   ],
   "source": [
    "print(*[COLUMNS[i] for i in [SS_CP,PITH_CP,ROLL_CP,SS_FO,PITH_FO,ROLL_FO]], sep='\\n')"
   ]
  },
  {
   "cell_type": "code",
   "execution_count": 45,
   "metadata": {},
   "outputs": [],
   "source": [
    "sscp = flight_df[COLUMNS[SS_CP]].values\n",
    "ssfo = flight_df[COLUMNS[SS_FO]].values\n",
    "p_cp = flight_df[COLUMNS[PITH_CP]].values\n",
    "p_fo = flight_df[COLUMNS[PITH_FO]].values\n",
    "r_cp = flight_df[COLUMNS[ROLL_CP]].values\n",
    "r_fo = flight_df[COLUMNS[ROLL_FO]].values\n",
    "\n",
    "a=sscp * p_cp + ssfo * p_fo\n",
    "b=p_cp+p_fo"
   ]
  },
  {
   "cell_type": "code",
   "execution_count": 44,
   "metadata": {},
   "outputs": [
    {
     "data": {
      "text/plain": [
       "array([ 0.        ,  0.        ,  0.        ,  0.        ,  0.        ,\n",
       "        0.        ,  0.        ,  0.        ,  0.        ,  0.        ,\n",
       "       -0.35156   ,  0.        ,  0.        ,  0.        ,  0.        ,\n",
       "        0.        ,  0.        ,  0.        ,  0.        ,  0.        ,\n",
       "        1.01073503,  0.92284501,  0.        , -1.31834996,  0.        ,\n",
       "        0.        ,  0.        ,  0.92284501,  0.043945  ,  0.        ,\n",
       "        1.09862494,  0.        ,  0.        ,  2.85642505,  0.        ,\n",
       "       -2.94431496, -4.04294014, -4.04294014, -7.82220984, -9.00872517])"
      ]
     },
     "execution_count": 44,
     "metadata": {},
     "output_type": "execute_result"
    }
   ],
   "source": [
    "a[np.arange(40), abs(a).argmax(axis=1)]"
   ]
  },
  {
   "cell_type": "code",
   "execution_count": 46,
   "metadata": {},
   "outputs": [
    {
     "data": {
      "text/plain": [
       "array([ 0.        ,  0.        ,  0.        ,  0.        ,  0.        ,\n",
       "        0.        ,  0.        ,  0.        ,  0.        , -0.70311999,\n",
       "       -0.35156   ,  0.        , -1.274405  , -0.57128501, -1.23046005,\n",
       "       -1.09862494,  0.        ,  0.        ,  1.18651497,  1.40623999,\n",
       "        1.01073503,  1.31834996, -1.36229503, -1.31834996, -0.43945   ,\n",
       "        0.        ,  0.74706501,  0.92284501,  1.14257002,  1.09862494,\n",
       "        1.31834996,  0.        ,  0.        ,  2.85642505, -0.043945  ,\n",
       "       -2.94431496, -4.04294014, -4.04294014, -7.82220984, -9.00872517])"
      ]
     },
     "execution_count": 46,
     "metadata": {},
     "output_type": "execute_result"
    }
   ],
   "source": [
    "b[np.arange(40), abs(b).argmax(axis=1)]"
   ]
  },
  {
   "cell_type": "code",
   "execution_count": 29,
   "metadata": {},
   "outputs": [
    {
     "data": {
      "text/plain": [
       "array([ 0.        ,  0.        ,  0.        ,  0.        ,  0.        ,\n",
       "        0.        ,  0.        ,  0.        ,  0.        ,  0.        ,\n",
       "        0.        ,  0.        ,  0.        ,  0.        ,  0.        ,\n",
       "        0.        ,  0.        ,  0.        ,  0.        ,  0.        ,\n",
       "        1.01073503,  1.31834996,  0.        , -1.23046005,  0.        ,\n",
       "        0.        ,  0.        ,  0.92284501,  1.14257002,  0.        ,\n",
       "        1.31834996,  0.        ,  0.        ,  2.85642505,  0.        ,\n",
       "        0.        , -1.45018494,  0.52733999, -1.49413002, -0.26367   ])"
      ]
     },
     "execution_count": 29,
     "metadata": {},
     "output_type": "execute_result"
    }
   ],
   "source": [
    "b"
   ]
  },
  {
   "cell_type": "code",
   "execution_count": 31,
   "metadata": {},
   "outputs": [
    {
     "data": {
      "text/plain": [
       "\u001b[0;31mSignature:\u001b[0m \u001b[0mnp\u001b[0m\u001b[0;34m.\u001b[0m\u001b[0mmax\u001b[0m\u001b[0;34m(\u001b[0m\u001b[0ma\u001b[0m\u001b[0;34m,\u001b[0m \u001b[0maxis\u001b[0m\u001b[0;34m=\u001b[0m\u001b[0;32mNone\u001b[0m\u001b[0;34m,\u001b[0m \u001b[0mout\u001b[0m\u001b[0;34m=\u001b[0m\u001b[0;32mNone\u001b[0m\u001b[0;34m,\u001b[0m \u001b[0mkeepdims\u001b[0m\u001b[0;34m=\u001b[0m\u001b[0;34m<\u001b[0m\u001b[0;32mclass\u001b[0m \u001b[0;34m'numpy._globals._NoValue'\u001b[0m\u001b[0;34m>\u001b[0m\u001b[0;34m)\u001b[0m\u001b[0;34m\u001b[0m\u001b[0m\n",
       "\u001b[0;31mDocstring:\u001b[0m\n",
       "Return the maximum of an array or maximum along an axis.\n",
       "\n",
       "Parameters\n",
       "----------\n",
       "a : array_like\n",
       "    Input data.\n",
       "axis : None or int or tuple of ints, optional\n",
       "    Axis or axes along which to operate.  By default, flattened input is\n",
       "    used.\n",
       "\n",
       "    .. versionadded:: 1.7.0\n",
       "\n",
       "    If this is a tuple of ints, the maximum is selected over multiple axes,\n",
       "    instead of a single axis or all the axes as before.\n",
       "out : ndarray, optional\n",
       "    Alternative output array in which to place the result.  Must\n",
       "    be of the same shape and buffer length as the expected output.\n",
       "    See `doc.ufuncs` (Section \"Output arguments\") for more details.\n",
       "\n",
       "keepdims : bool, optional\n",
       "    If this is set to True, the axes which are reduced are left\n",
       "    in the result as dimensions with size one. With this option,\n",
       "    the result will broadcast correctly against the input array.\n",
       "\n",
       "    If the default value is passed, then `keepdims` will not be\n",
       "    passed through to the `amax` method of sub-classes of\n",
       "    `ndarray`, however any non-default value will be.  If the\n",
       "    sub-classes `sum` method does not implement `keepdims` any\n",
       "    exceptions will be raised.\n",
       "\n",
       "Returns\n",
       "-------\n",
       "amax : ndarray or scalar\n",
       "    Maximum of `a`. If `axis` is None, the result is a scalar value.\n",
       "    If `axis` is given, the result is an array of dimension\n",
       "    ``a.ndim - 1``.\n",
       "\n",
       "See Also\n",
       "--------\n",
       "amin :\n",
       "    The minimum value of an array along a given axis, propagating any NaNs.\n",
       "nanmax :\n",
       "    The maximum value of an array along a given axis, ignoring any NaNs.\n",
       "maximum :\n",
       "    Element-wise maximum of two arrays, propagating any NaNs.\n",
       "fmax :\n",
       "    Element-wise maximum of two arrays, ignoring any NaNs.\n",
       "argmax :\n",
       "    Return the indices of the maximum values.\n",
       "\n",
       "nanmin, minimum, fmin\n",
       "\n",
       "Notes\n",
       "-----\n",
       "NaN values are propagated, that is if at least one item is NaN, the\n",
       "corresponding max value will be NaN as well. To ignore NaN values\n",
       "(MATLAB behavior), please use nanmax.\n",
       "\n",
       "Don't use `amax` for element-wise comparison of 2 arrays; when\n",
       "``a.shape[0]`` is 2, ``maximum(a[0], a[1])`` is faster than\n",
       "``amax(a, axis=0)``.\n",
       "\n",
       "Examples\n",
       "--------\n",
       ">>> a = np.arange(4).reshape((2,2))\n",
       ">>> a\n",
       "array([[0, 1],\n",
       "       [2, 3]])\n",
       ">>> np.amax(a)           # Maximum of the flattened array\n",
       "3\n",
       ">>> np.amax(a, axis=0)   # Maxima along the first axis\n",
       "array([2, 3])\n",
       ">>> np.amax(a, axis=1)   # Maxima along the second axis\n",
       "array([1, 3])\n",
       "\n",
       ">>> b = np.arange(5, dtype=np.float)\n",
       ">>> b[2] = np.NaN\n",
       ">>> np.amax(b)\n",
       "nan\n",
       ">>> np.nanmax(b)\n",
       "4.0\n",
       "\u001b[0;31mFile:\u001b[0m      ~/Anaconda3/anaconda3/lib/python3.6/site-packages/numpy/core/fromnumeric.py\n",
       "\u001b[0;31mType:\u001b[0m      function\n"
      ]
     },
     "metadata": {},
     "output_type": "display_data"
    }
   ],
   "source": [
    "?np.load"
   ]
  },
  {
   "cell_type": "code",
   "execution_count": null,
   "metadata": {},
   "outputs": [],
   "source": []
  }
 ],
 "metadata": {
  "kernelspec": {
   "display_name": "Python 3",
   "language": "python",
   "name": "python3"
  },
  "language_info": {
   "codemirror_mode": {
    "name": "ipython",
    "version": 3
   },
   "file_extension": ".py",
   "mimetype": "text/x-python",
   "name": "python",
   "nbconvert_exporter": "python",
   "pygments_lexer": "ipython3",
   "version": "3.6.3"
  }
 },
 "nbformat": 4,
 "nbformat_minor": 2
}
